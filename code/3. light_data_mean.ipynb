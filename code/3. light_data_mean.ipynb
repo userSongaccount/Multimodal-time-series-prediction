{
 "cells": [
  {
   "cell_type": "code",
   "execution_count": 2,
   "id": "102d279a",
   "metadata": {},
   "outputs": [],
   "source": [
    "# 导入必要的库\n",
    "import pandas as pd\n",
    "import numpy as np\n",
    "import matplotlib.pyplot as plt\n",
    "import seaborn as sns\n",
    "from statsmodels.tsa.stattools import adfuller\n",
    "from statsmodels.tsa.seasonal import seasonal_decompose\n",
    "from pmdarima.arima import nsdiffs, ndiffs\n",
    "from pmdarima import auto_arima"
   ]
  },
  {
   "cell_type": "code",
   "execution_count": null,
   "id": "cf23240c",
   "metadata": {},
   "outputs": [
    {
     "name": "stdout",
     "output_type": "stream",
     "text": [
      "        time  GDP_4cum  city_mean_light  region_mean_light title website  \\\n",
      "0 2008-01-01   1634.65        13.180645            0.98249  (填补)    none   \n",
      "1 2008-04-01   3346.63        13.180645            0.98249  (填补)    none   \n",
      "2 2008-07-01   5351.74        13.180645            0.98249  (填补)    none   \n",
      "\n",
      "   Year  Month      GDP    ln_gdp   ln_city  ln_region  \n",
      "0  2008      1  1634.65  7.399184  2.578749  -0.017665  \n",
      "1  2008      4  1711.98  7.445406  2.578749  -0.017665  \n",
      "2  2008      7  2005.11  7.603454  2.578749  -0.017665  \n",
      "time                 datetime64[ns]\n",
      "GDP_4cum                    float64\n",
      "city_mean_light             float64\n",
      "region_mean_light           float64\n",
      "title                        object\n",
      "website                      object\n",
      "Year                          int64\n",
      "Month                         int64\n",
      "GDP                         float64\n",
      "ln_gdp                      float64\n",
      "ln_city                     float64\n",
      "ln_region                   float64\n",
      "dtype: object\n"
     ]
    }
   ],
   "source": [
    "file_path = r\"C:\\Users\\huawei\\OneDrive\\桌面\\original.xlsx\"\n",
    "\n",
    "# 读取数据，time列解析为日期但不设为索引\n",
    "df = pd.read_excel(file_path, parse_dates=['time'])\n",
    "\n",
    "# 按时间列从小到大排序\n",
    "df = df.sort_values('time').reset_index(drop=True)\n",
    "\n",
    "print(df.head(3))\n",
    "print(df.dtypes)"
   ]
  },
  {
   "cell_type": "code",
   "execution_count": 58,
   "id": "3ce622b1",
   "metadata": {},
   "outputs": [
    {
     "name": "stdout",
     "output_type": "stream",
     "text": [
      "筛选的年份范围: 2014 - 2023\n",
      "         time   GDP_4cum  city_mean_light  region_mean_light        title  \\\n",
      "24 2014-01-01  2953.2500        14.497979           1.437986  一季度深圳经济运行情况   \n",
      "25 2014-04-01  6494.8716        14.614505           1.380323  上半年深圳经济运行情况   \n",
      "\n",
      "                                              website  Year  Month        GDP  \\\n",
      "24  https://tjj.sz.gov.cn/zwgk/zfxxgkml/tjsj/tjfx/...  2014      1  2953.2500   \n",
      "25  https://tjj.sz.gov.cn/zwgk/zfxxgkml/tjsj/tjfx/...  2014      4  3541.6216   \n",
      "\n",
      "      ln_gdp   ln_city  ln_region  \n",
      "24  7.990662  2.674009   0.363243  \n",
      "25  8.172340  2.682015   0.322318  \n"
     ]
    }
   ],
   "source": [
    "# 筛选year列为2014到2023的数据，并创建副本\n",
    "cal = df[(df['Year'] >= 2014) & (df['Year'] <= 2023)].copy()\n",
    "\n",
    "print(f\"筛选的年份范围: {cal['Year'].min()} - {cal['Year'].max()}\")\n",
    "print(cal.head(2))"
   ]
  },
  {
   "cell_type": "code",
   "execution_count": 59,
   "id": "be61ecf8",
   "metadata": {},
   "outputs": [
    {
     "name": "stdout",
     "output_type": "stream",
     "text": [
      "每年各季度city_prop的总和（应该都等于1）:\n",
      "Year\n",
      "2014    1.0\n",
      "2015    1.0\n",
      "2016    1.0\n",
      "2017    1.0\n",
      "2018    1.0\n",
      "2019    1.0\n",
      "2020    1.0\n",
      "2021    1.0\n",
      "2022    1.0\n",
      "2023    1.0\n",
      "Name: city_prop, dtype: float64\n",
      "\n",
      "前几行数据:\n",
      "    Year  city_mean_light  city_prop\n",
      "24  2014        14.497979   0.241034\n",
      "25  2014        14.614505   0.242971\n",
      "26  2014        15.858605   0.263655\n",
      "27  2014        15.178015   0.252340\n",
      "28  2015        14.593800   0.240887\n"
     ]
    }
   ],
   "source": [
    "# 按年份分组，计算每个季度灯光值占全年的比例\n",
    "cal['city_prop'] = cal.groupby('Year')['city_mean_light'].transform(\n",
    "    lambda x: x / x.sum()\n",
    ")\n",
    "\n",
    "# 验证结果\n",
    "print(\"每年各季度city_prop的总和（应该都等于1）:\")\n",
    "print(cal.groupby('Year')['city_prop'].sum())\n",
    "\n",
    "print(\"\\n前几行数据:\")\n",
    "print(cal[['Year', 'city_mean_light', 'city_prop']].head())"
   ]
  },
  {
   "cell_type": "code",
   "execution_count": 60,
   "id": "0f9b133e",
   "metadata": {},
   "outputs": [
    {
     "name": "stdout",
     "output_type": "stream",
     "text": [
      "Month\n",
      "1     0.2381\n",
      "4     0.2519\n",
      "7     0.2502\n",
      "10    0.2598\n",
      "Name: city_prop, dtype: float64\n",
      "\n",
      "带标签的各季度city_prop平均值:\n",
      "Q1 (1月): 0.2381\n",
      "Q2 (4月): 0.2519\n",
      "Q3 (7月): 0.2502\n",
      "Q4 (10月): 0.2598\n",
      "\n",
      "验证：所有季度平均值之和 = 1.0000\n"
     ]
    }
   ],
   "source": [
    "# 按照Month列分组（4个季度），计算city_prop的平均值\n",
    "quarterly_city_prop = cal.groupby('Month')['city_prop'].mean().round(4)\n",
    "\n",
    "print(quarterly_city_prop)\n",
    "\n",
    "# 添加季度标签显示\n",
    "quarterly_labels = {\n",
    "    1: 'Q1 (1月)',\n",
    "    4: 'Q2 (4月)', \n",
    "    7: 'Q3 (7月)',\n",
    "    10: 'Q4 (10月)'\n",
    "}\n",
    "\n",
    "print(\"\\n带标签的各季度city_prop平均值:\")\n",
    "for month, avg_prop in quarterly_city_prop.items():\n",
    "    quarter_label = quarterly_labels[month]\n",
    "    print(f\"{quarter_label}: {avg_prop:.4f}\")\n",
    "\n",
    "# 验证：所有季度平均值之和应该等于1\n",
    "total_avg = quarterly_city_prop.sum()\n",
    "print(f\"\\n验证：所有季度平均值之和 = {total_avg:.4f}\")"
   ]
  },
  {
   "cell_type": "code",
   "execution_count": 61,
   "id": "2b4d44bb",
   "metadata": {},
   "outputs": [
    {
     "name": "stdout",
     "output_type": "stream",
     "text": [
      "每年各季度city_prop的总和（应该都等于1）:\n",
      "Year\n",
      "2014    1.0\n",
      "2015    1.0\n",
      "2016    1.0\n",
      "2017    1.0\n",
      "2018    1.0\n",
      "2019    1.0\n",
      "2020    1.0\n",
      "2021    1.0\n",
      "2022    1.0\n",
      "2023    1.0\n",
      "Name: region_prop, dtype: float64\n",
      "\n",
      "前几行数据:\n",
      "    Year  region_mean_light  region_prop\n",
      "24  2014           1.437986     0.245767\n",
      "25  2014           1.380323     0.235912\n",
      "26  2014           1.558785     0.266413\n",
      "27  2014           1.473916     0.251908\n",
      "28  2015           1.491912     0.249547\n"
     ]
    }
   ],
   "source": [
    "# 按年份分组，计算每个季度灯光值占全年的比例\n",
    "cal['region_prop'] = cal.groupby('Year')['region_mean_light'].transform(\n",
    "    lambda x: x / x.sum()\n",
    ")\n",
    "\n",
    "# 验证结果\n",
    "print(\"每年各季度city_prop的总和（应该都等于1）:\")\n",
    "print(cal.groupby('Year')['region_prop'].sum())\n",
    "\n",
    "print(\"\\n前几行数据:\")\n",
    "print(cal[['Year', 'region_mean_light', 'region_prop']].head())"
   ]
  },
  {
   "cell_type": "code",
   "execution_count": 62,
   "id": "53285069",
   "metadata": {},
   "outputs": [
    {
     "name": "stdout",
     "output_type": "stream",
     "text": [
      "Month\n",
      "1     0.2425\n",
      "4     0.2511\n",
      "7     0.2475\n",
      "10    0.2589\n",
      "Name: region_prop, dtype: float64\n",
      "\n",
      "带标签的各季度region_prop平均值:\n",
      "Q1 (1月): 0.2425\n",
      "Q2 (4月): 0.2511\n",
      "Q3 (7月): 0.2475\n",
      "Q4 (10月): 0.2589\n",
      "\n",
      "验证：所有季度平均值之和 = 1.0000\n"
     ]
    }
   ],
   "source": [
    "# 按照Month列分组（4个季度），计算region_prop的平均值\n",
    "quarterly_region_prop = cal.groupby('Month')['region_prop'].mean().round(4)\n",
    "\n",
    "print(quarterly_region_prop)\n",
    "\n",
    "# 添加季度标签显示\n",
    "quarterly_labels = {\n",
    "    1: 'Q1 (1月)',\n",
    "    4: 'Q2 (4月)', \n",
    "    7: 'Q3 (7月)',\n",
    "    10: 'Q4 (10月)'\n",
    "}\n",
    "print(\"\\n带标签的各季度region_prop平均值:\")\n",
    "for month, avg_prop in quarterly_region_prop.items():\n",
    "    quarter_label = quarterly_labels[month]\n",
    "    print(f\"{quarter_label}: {avg_prop:.4f}\")\n",
    "\n",
    "# 验证：所有季度平均值之和应该等于1\n",
    "total_avg = quarterly_region_prop.sum()\n",
    "print(f\"\\n验证：所有季度平均值之和 = {total_avg:.4f}\")"
   ]
  },
  {
   "cell_type": "code",
   "execution_count": 63,
   "id": "dea1410c",
   "metadata": {},
   "outputs": [],
   "source": [
    "# 筛选2008-2013年的数据\n",
    "data_2008_2013 = df[(df['Year'] >= 2008) & (df['Year'] <= 2013)].copy()\n",
    "\n",
    "# 将两部分数据合并\n",
    "cal = pd.concat([cal, data_2008_2013], ignore_index=True)\n",
    "\n",
    "# 按时间排序\n",
    "cal = cal.sort_values('time').reset_index(drop=True)"
   ]
  },
  {
   "cell_type": "code",
   "execution_count": 65,
   "id": "510872fd",
   "metadata": {},
   "outputs": [
    {
     "name": "stdout",
     "output_type": "stream",
     "text": [
      "   Year  Month  city_prop  region_prop\n",
      "0  2008      1     0.2381       0.2425\n",
      "1  2008      4     0.2519       0.2511\n",
      "2  2008      7     0.2502       0.2475\n",
      "3  2008     10     0.2598       0.2589\n",
      "4  2009      1     0.2381       0.2425\n",
      "\n",
      "验证各年份比例总和:\n",
      "      city_prop  region_prop\n",
      "Year                        \n",
      "2008        1.0          1.0\n",
      "2009        1.0          1.0\n",
      "2010        1.0          1.0\n",
      "2011        1.0          1.0\n",
      "2012        1.0          1.0\n",
      "2013        1.0          1.0\n"
     ]
    }
   ],
   "source": [
    "# 为2008-2013年的数据填补city_prop\n",
    "cal.loc[cal['Year'].between(2008, 2013), 'city_prop'] = cal.loc[cal['Year'].between(2008, 2013), 'Month'].map(quarterly_city_prop)\n",
    "\n",
    "# 为2008-2013年的数据填补region_prop\n",
    "cal.loc[cal['Year'].between(2008, 2013), 'region_prop'] = cal.loc[cal['Year'].between(2008, 2013), 'Month'].map(quarterly_region_prop)\n",
    "\n",
    "\n",
    "# 检查填补后的结果\n",
    "print(cal[cal['Year'].between(2008, 2013)][['Year', 'Month', 'city_prop', 'region_prop']].head())\n",
    "\n",
    "# 验证每年的比例总和是否为1\n",
    "print(\"\\n验证各年份比例总和:\")\n",
    "print(cal[cal['Year'].between(2008, 2013)].groupby('Year')[['city_prop', 'region_prop']].sum())"
   ]
  },
  {
   "cell_type": "code",
   "execution_count": 66,
   "id": "94cac182",
   "metadata": {},
   "outputs": [
    {
     "name": "stdout",
     "output_type": "stream",
     "text": [
      "各年度总和:\n",
      "   Year  city_yearly_sum  region_yearly_sum\n",
      "0  2008        52.722581           3.929959\n",
      "1  2009        54.207924           4.045277\n",
      "2  2010        58.223983           5.320330\n",
      "3  2011        60.451682           5.554874\n",
      "4  2012        57.671480           5.319744\n",
      "5  2013        59.795041           5.931304\n"
     ]
    }
   ],
   "source": [
    "# 计算2008-2013年每年的年度总和\n",
    "yearly_sums = cal[cal['Year'].between(2008, 2013)].groupby('Year').agg({\n",
    "    'city_mean_light': 'sum',\n",
    "    'region_mean_light': 'sum'\n",
    "}).reset_index()\n",
    "\n",
    "# 重命名列名\n",
    "yearly_sums.rename(columns={\n",
    "    'city_mean_light': 'city_yearly_sum',\n",
    "    'region_mean_light': 'region_yearly_sum'\n",
    "}, inplace=True)\n",
    "\n",
    "print(\"各年度总和:\")\n",
    "print(yearly_sums)"
   ]
  },
  {
   "cell_type": "code",
   "execution_count": 67,
   "id": "909f3120",
   "metadata": {},
   "outputs": [
    {
     "name": "stdout",
     "output_type": "stream",
     "text": [
      "\n",
      "合并后的数据示例:\n",
      "   Year  Month  city_yearly_sum  region_yearly_sum\n",
      "0  2008      1        52.722581           3.929959\n",
      "1  2008      4        52.722581           3.929959\n",
      "2  2008      7        52.722581           3.929959\n",
      "3  2008     10        52.722581           3.929959\n",
      "4  2009      1        54.207924           4.045277\n"
     ]
    }
   ],
   "source": [
    "# 将年度总和合并到cal数据中\n",
    "cal = cal.merge(yearly_sums, on='Year', how='left')\n",
    "\n",
    "# 检查合并结果\n",
    "print(\"\\n合并后的数据示例:\")\n",
    "print(cal[cal['Year'].between(2008, 2013)][['Year', 'Month', 'city_yearly_sum', 'region_yearly_sum']].head())"
   ]
  },
  {
   "cell_type": "code",
   "execution_count": 71,
   "id": "5fa61bf4",
   "metadata": {},
   "outputs": [
    {
     "name": "stdout",
     "output_type": "stream",
     "text": [
      "重新分配后的数据:\n",
      "   Year  Month  city_mean_light  region_mean_light\n",
      "0  2008      1        12.553247           0.953015\n",
      "1  2008      4        13.280818           0.986813\n",
      "2  2008      7        13.191190           0.972665\n",
      "3  2008     10        13.697327           1.017466\n",
      "4  2009      1        12.906907           0.980980\n",
      "5  2009      4        13.654976           1.015769\n",
      "6  2009      7        13.562823           1.001206\n",
      "7  2009     10        14.083219           1.047322\n"
     ]
    }
   ],
   "source": [
    "# 只对2008-2013年的数据进行重新分配\n",
    "mask_2008_2013 = cal['Year'].between(2008, 2013)\n",
    "\n",
    "# 用city_prop比例重新分配city_mean_light\n",
    "cal.loc[mask_2008_2013, 'city_mean_light'] = cal.loc[mask_2008_2013, 'city_yearly_sum'] * cal.loc[mask_2008_2013, 'city_prop']\n",
    "\n",
    "# 用region_prop比例重新分配region_mean_light\n",
    "cal.loc[mask_2008_2013, 'region_mean_light'] = cal.loc[mask_2008_2013, 'region_yearly_sum'] * cal.loc[mask_2008_2013, 'region_prop']\n",
    "\n",
    "\n",
    "# 验证重新分配后的结果\n",
    "print(\"重新分配后的数据:\")\n",
    "print(cal[cal['Year'].between(2008, 2013)][['Year', 'Month', 'city_mean_light', 'region_mean_light']].head(8))"
   ]
  },
  {
   "cell_type": "code",
   "execution_count": null,
   "id": "82fec730",
   "metadata": {},
   "outputs": [],
   "source": [
    "# 将数据保存为CSV文件\n",
    "output_path = r\"C:\\Users\\huawei\\OneDrive\\桌面\\limited.csv\"\n",
    "cal.to_csv(output_path, index=False, encoding='utf-8-sig')"
   ]
  }
 ],
 "metadata": {
  "kernelspec": {
   "display_name": "Python 3",
   "language": "python",
   "name": "python3"
  },
  "language_info": {
   "codemirror_mode": {
    "name": "ipython",
    "version": 3
   },
   "file_extension": ".py",
   "mimetype": "text/x-python",
   "name": "python",
   "nbconvert_exporter": "python",
   "pygments_lexer": "ipython3",
   "version": "3.10.11"
  }
 },
 "nbformat": 4,
 "nbformat_minor": 5
}
